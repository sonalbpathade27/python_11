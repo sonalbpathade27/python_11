{
 "cells": [
  {
   "cell_type": "code",
   "execution_count": 1,
   "id": "1ce6bc72",
   "metadata": {},
   "outputs": [],
   "source": [
    "import pandas as pd\n"
   ]
  },
  {
   "cell_type": "code",
   "execution_count": 2,
   "id": "3fabdb9a",
   "metadata": {},
   "outputs": [],
   "source": [
    "df = pd.read_parquet('raw_data.parquet')"
   ]
  },
  {
   "cell_type": "code",
   "execution_count": 3,
   "id": "ef3b978d",
   "metadata": {},
   "outputs": [
    {
     "data": {
      "text/html": [
       "<div>\n",
       "<style scoped>\n",
       "    .dataframe tbody tr th:only-of-type {\n",
       "        vertical-align: middle;\n",
       "    }\n",
       "\n",
       "    .dataframe tbody tr th {\n",
       "        vertical-align: top;\n",
       "    }\n",
       "\n",
       "    .dataframe thead th {\n",
       "        text-align: right;\n",
       "    }\n",
       "</style>\n",
       "<table border=\"1\" class=\"dataframe\">\n",
       "  <thead>\n",
       "    <tr style=\"text-align: right;\">\n",
       "      <th></th>\n",
       "      <th>latitude</th>\n",
       "      <th>longitude</th>\n",
       "      <th>timestamp</th>\n",
       "      <th>unit</th>\n",
       "    </tr>\n",
       "  </thead>\n",
       "  <tbody>\n",
       "    <tr>\n",
       "      <th>0</th>\n",
       "      <td>40.23426</td>\n",
       "      <td>-77.13796</td>\n",
       "      <td>2023-12-05T23:13:40Z</td>\n",
       "      <td>1000</td>\n",
       "    </tr>\n",
       "    <tr>\n",
       "      <th>1</th>\n",
       "      <td>40.23422</td>\n",
       "      <td>-77.13796</td>\n",
       "      <td>2023-12-05T23:13:40Z</td>\n",
       "      <td>1000</td>\n",
       "    </tr>\n",
       "    <tr>\n",
       "      <th>2</th>\n",
       "      <td>40.23419</td>\n",
       "      <td>-77.13795</td>\n",
       "      <td>2023-12-05T23:13:40Z</td>\n",
       "      <td>1000</td>\n",
       "    </tr>\n",
       "    <tr>\n",
       "      <th>3</th>\n",
       "      <td>40.23412</td>\n",
       "      <td>-77.13792</td>\n",
       "      <td>2023-12-05T23:13:40Z</td>\n",
       "      <td>1000</td>\n",
       "    </tr>\n",
       "  </tbody>\n",
       "</table>\n",
       "</div>"
      ],
      "text/plain": [
       "   latitude  longitude             timestamp  unit\n",
       "0  40.23426  -77.13796  2023-12-05T23:13:40Z  1000\n",
       "1  40.23422  -77.13796  2023-12-05T23:13:40Z  1000\n",
       "2  40.23419  -77.13795  2023-12-05T23:13:40Z  1000\n",
       "3  40.23412  -77.13792  2023-12-05T23:13:40Z  1000"
      ]
     },
     "execution_count": 3,
     "metadata": {},
     "output_type": "execute_result"
    }
   ],
   "source": [
    "df.head(4)"
   ]
  },
  {
   "cell_type": "code",
   "execution_count": 4,
   "id": "cad78a3d",
   "metadata": {},
   "outputs": [
    {
     "data": {
      "text/plain": [
       "(73472, 4)"
      ]
     },
     "execution_count": 4,
     "metadata": {},
     "output_type": "execute_result"
    }
   ],
   "source": [
    "df.shape"
   ]
  },
  {
   "cell_type": "code",
   "execution_count": 5,
   "id": "bc40cc2a",
   "metadata": {},
   "outputs": [
    {
     "data": {
      "text/plain": [
       "latitude     0\n",
       "longitude    0\n",
       "timestamp    0\n",
       "unit         0\n",
       "dtype: int64"
      ]
     },
     "execution_count": 5,
     "metadata": {},
     "output_type": "execute_result"
    }
   ],
   "source": [
    "df.isnull().sum()"
   ]
  },
  {
   "cell_type": "code",
   "execution_count": 6,
   "id": "e3f6f311",
   "metadata": {},
   "outputs": [
    {
     "data": {
      "text/html": [
       "<div>\n",
       "<style scoped>\n",
       "    .dataframe tbody tr th:only-of-type {\n",
       "        vertical-align: middle;\n",
       "    }\n",
       "\n",
       "    .dataframe tbody tr th {\n",
       "        vertical-align: top;\n",
       "    }\n",
       "\n",
       "    .dataframe thead th {\n",
       "        text-align: right;\n",
       "    }\n",
       "</style>\n",
       "<table border=\"1\" class=\"dataframe\">\n",
       "  <thead>\n",
       "    <tr style=\"text-align: right;\">\n",
       "      <th></th>\n",
       "      <th>latitude</th>\n",
       "      <th>longitude</th>\n",
       "      <th>unit</th>\n",
       "    </tr>\n",
       "  </thead>\n",
       "  <tbody>\n",
       "    <tr>\n",
       "      <th>count</th>\n",
       "      <td>73472.000000</td>\n",
       "      <td>73472.000000</td>\n",
       "      <td>73472.000000</td>\n",
       "    </tr>\n",
       "    <tr>\n",
       "      <th>mean</th>\n",
       "      <td>40.507989</td>\n",
       "      <td>-78.919561</td>\n",
       "      <td>1367.105836</td>\n",
       "    </tr>\n",
       "    <tr>\n",
       "      <th>std</th>\n",
       "      <td>2.080863</td>\n",
       "      <td>5.455478</td>\n",
       "      <td>482.018987</td>\n",
       "    </tr>\n",
       "    <tr>\n",
       "      <th>min</th>\n",
       "      <td>29.706670</td>\n",
       "      <td>-96.353030</td>\n",
       "      <td>1000.000000</td>\n",
       "    </tr>\n",
       "    <tr>\n",
       "      <th>25%</th>\n",
       "      <td>40.136450</td>\n",
       "      <td>-81.653397</td>\n",
       "      <td>1000.000000</td>\n",
       "    </tr>\n",
       "    <tr>\n",
       "      <th>50%</th>\n",
       "      <td>40.702190</td>\n",
       "      <td>-77.922590</td>\n",
       "      <td>1000.000000</td>\n",
       "    </tr>\n",
       "    <tr>\n",
       "      <th>75%</th>\n",
       "      <td>41.382770</td>\n",
       "      <td>-74.241338</td>\n",
       "      <td>2000.000000</td>\n",
       "    </tr>\n",
       "    <tr>\n",
       "      <th>max</th>\n",
       "      <td>43.204990</td>\n",
       "      <td>-73.778620</td>\n",
       "      <td>2000.000000</td>\n",
       "    </tr>\n",
       "  </tbody>\n",
       "</table>\n",
       "</div>"
      ],
      "text/plain": [
       "           latitude     longitude          unit\n",
       "count  73472.000000  73472.000000  73472.000000\n",
       "mean      40.507989    -78.919561   1367.105836\n",
       "std        2.080863      5.455478    482.018987\n",
       "min       29.706670    -96.353030   1000.000000\n",
       "25%       40.136450    -81.653397   1000.000000\n",
       "50%       40.702190    -77.922590   1000.000000\n",
       "75%       41.382770    -74.241338   2000.000000\n",
       "max       43.204990    -73.778620   2000.000000"
      ]
     },
     "execution_count": 6,
     "metadata": {},
     "output_type": "execute_result"
    }
   ],
   "source": [
    "df.describe()"
   ]
  },
  {
   "cell_type": "code",
   "execution_count": 7,
   "id": "158d0136",
   "metadata": {},
   "outputs": [
    {
     "name": "stdout",
     "output_type": "stream",
     "text": [
      "<class 'pandas.core.frame.DataFrame'>\n",
      "RangeIndex: 73472 entries, 0 to 73471\n",
      "Data columns (total 4 columns):\n",
      " #   Column     Non-Null Count  Dtype  \n",
      "---  ------     --------------  -----  \n",
      " 0   latitude   73472 non-null  float64\n",
      " 1   longitude  73472 non-null  float64\n",
      " 2   timestamp  73472 non-null  object \n",
      " 3   unit       73472 non-null  int64  \n",
      "dtypes: float64(2), int64(1), object(1)\n",
      "memory usage: 2.2+ MB\n"
     ]
    }
   ],
   "source": [
    "df.info()"
   ]
  },
  {
   "cell_type": "code",
   "execution_count": 8,
   "id": "2336851f",
   "metadata": {},
   "outputs": [
    {
     "data": {
      "text/plain": [
       "array([1000, 2000], dtype=int64)"
      ]
     },
     "execution_count": 8,
     "metadata": {},
     "output_type": "execute_result"
    }
   ],
   "source": [
    "df['unit'].unique()"
   ]
  },
  {
   "cell_type": "code",
   "execution_count": 9,
   "id": "0367bf01",
   "metadata": {},
   "outputs": [],
   "source": [
    "df_unit = df.groupby('unit',as_index= False).size()"
   ]
  },
  {
   "cell_type": "code",
   "execution_count": 10,
   "id": "50020bca",
   "metadata": {},
   "outputs": [
    {
     "data": {
      "text/html": [
       "<div>\n",
       "<style scoped>\n",
       "    .dataframe tbody tr th:only-of-type {\n",
       "        vertical-align: middle;\n",
       "    }\n",
       "\n",
       "    .dataframe tbody tr th {\n",
       "        vertical-align: top;\n",
       "    }\n",
       "\n",
       "    .dataframe thead th {\n",
       "        text-align: right;\n",
       "    }\n",
       "</style>\n",
       "<table border=\"1\" class=\"dataframe\">\n",
       "  <thead>\n",
       "    <tr style=\"text-align: right;\">\n",
       "      <th></th>\n",
       "      <th>unit</th>\n",
       "      <th>size</th>\n",
       "    </tr>\n",
       "  </thead>\n",
       "  <tbody>\n",
       "    <tr>\n",
       "      <th>0</th>\n",
       "      <td>1000</td>\n",
       "      <td>46500</td>\n",
       "    </tr>\n",
       "    <tr>\n",
       "      <th>1</th>\n",
       "      <td>2000</td>\n",
       "      <td>26972</td>\n",
       "    </tr>\n",
       "  </tbody>\n",
       "</table>\n",
       "</div>"
      ],
      "text/plain": [
       "   unit   size\n",
       "0  1000  46500\n",
       "1  2000  26972"
      ]
     },
     "execution_count": 10,
     "metadata": {},
     "output_type": "execute_result"
    }
   ],
   "source": [
    "df_unit"
   ]
  },
  {
   "cell_type": "code",
   "execution_count": null,
   "id": "752b865c",
   "metadata": {},
   "outputs": [],
   "source": []
  },
  {
   "cell_type": "code",
   "execution_count": 11,
   "id": "b97bf635",
   "metadata": {},
   "outputs": [],
   "source": [
    "df['timestamp1']=pd.to_datetime(df['timestamp'])"
   ]
  },
  {
   "cell_type": "code",
   "execution_count": 12,
   "id": "37259d37",
   "metadata": {},
   "outputs": [],
   "source": [
    "df['Time_Diff'] = df['timestamp1'].diff(-1).dt.total_seconds().div(60*60*7)"
   ]
  },
  {
   "cell_type": "code",
   "execution_count": 13,
   "id": "0d6401f2",
   "metadata": {},
   "outputs": [
    {
     "data": {
      "text/html": [
       "<div>\n",
       "<style scoped>\n",
       "    .dataframe tbody tr th:only-of-type {\n",
       "        vertical-align: middle;\n",
       "    }\n",
       "\n",
       "    .dataframe tbody tr th {\n",
       "        vertical-align: top;\n",
       "    }\n",
       "\n",
       "    .dataframe thead th {\n",
       "        text-align: right;\n",
       "    }\n",
       "</style>\n",
       "<table border=\"1\" class=\"dataframe\">\n",
       "  <thead>\n",
       "    <tr style=\"text-align: right;\">\n",
       "      <th></th>\n",
       "      <th>latitude</th>\n",
       "      <th>longitude</th>\n",
       "      <th>timestamp</th>\n",
       "      <th>unit</th>\n",
       "      <th>timestamp1</th>\n",
       "      <th>Time_Diff</th>\n",
       "    </tr>\n",
       "  </thead>\n",
       "  <tbody>\n",
       "    <tr>\n",
       "      <th>0</th>\n",
       "      <td>40.23426</td>\n",
       "      <td>-77.13796</td>\n",
       "      <td>2023-12-05T23:13:40Z</td>\n",
       "      <td>1000</td>\n",
       "      <td>2023-12-05 23:13:40+00:00</td>\n",
       "      <td>0.00000</td>\n",
       "    </tr>\n",
       "    <tr>\n",
       "      <th>1</th>\n",
       "      <td>40.23422</td>\n",
       "      <td>-77.13796</td>\n",
       "      <td>2023-12-05T23:13:40Z</td>\n",
       "      <td>1000</td>\n",
       "      <td>2023-12-05 23:13:40+00:00</td>\n",
       "      <td>0.00000</td>\n",
       "    </tr>\n",
       "    <tr>\n",
       "      <th>2</th>\n",
       "      <td>40.23419</td>\n",
       "      <td>-77.13795</td>\n",
       "      <td>2023-12-05T23:13:40Z</td>\n",
       "      <td>1000</td>\n",
       "      <td>2023-12-05 23:13:40+00:00</td>\n",
       "      <td>0.00000</td>\n",
       "    </tr>\n",
       "    <tr>\n",
       "      <th>3</th>\n",
       "      <td>40.23412</td>\n",
       "      <td>-77.13792</td>\n",
       "      <td>2023-12-05T23:13:40Z</td>\n",
       "      <td>1000</td>\n",
       "      <td>2023-12-05 23:13:40+00:00</td>\n",
       "      <td>0.00000</td>\n",
       "    </tr>\n",
       "    <tr>\n",
       "      <th>4</th>\n",
       "      <td>40.23412</td>\n",
       "      <td>-77.13792</td>\n",
       "      <td>2023-12-05T23:13:40Z</td>\n",
       "      <td>1000</td>\n",
       "      <td>2023-12-05 23:13:40+00:00</td>\n",
       "      <td>-0.00004</td>\n",
       "    </tr>\n",
       "  </tbody>\n",
       "</table>\n",
       "</div>"
      ],
      "text/plain": [
       "   latitude  longitude             timestamp  unit                timestamp1  \\\n",
       "0  40.23426  -77.13796  2023-12-05T23:13:40Z  1000 2023-12-05 23:13:40+00:00   \n",
       "1  40.23422  -77.13796  2023-12-05T23:13:40Z  1000 2023-12-05 23:13:40+00:00   \n",
       "2  40.23419  -77.13795  2023-12-05T23:13:40Z  1000 2023-12-05 23:13:40+00:00   \n",
       "3  40.23412  -77.13792  2023-12-05T23:13:40Z  1000 2023-12-05 23:13:40+00:00   \n",
       "4  40.23412  -77.13792  2023-12-05T23:13:40Z  1000 2023-12-05 23:13:40+00:00   \n",
       "\n",
       "   Time_Diff  \n",
       "0    0.00000  \n",
       "1    0.00000  \n",
       "2    0.00000  \n",
       "3    0.00000  \n",
       "4   -0.00004  "
      ]
     },
     "execution_count": 13,
     "metadata": {},
     "output_type": "execute_result"
    }
   ],
   "source": [
    "df.head()\n"
   ]
  },
  {
   "cell_type": "code",
   "execution_count": 14,
   "id": "f144833b",
   "metadata": {},
   "outputs": [
    {
     "name": "stdout",
     "output_type": "stream",
     "text": [
      "[14643, 26923, 42777, 46499, 58801, 62261]\n"
     ]
    }
   ],
   "source": [
    "list1 = df.index[df['Time_Diff']<=-1].tolist()\n",
    "print(list1)\n"
   ]
  },
  {
   "cell_type": "code",
   "execution_count": 15,
   "id": "41669433",
   "metadata": {},
   "outputs": [
    {
     "name": "stdout",
     "output_type": "stream",
     "text": [
      "['0', '1', '2', '3', '4', '5', '6']\n",
      "[1000 2000]\n"
     ]
    }
   ],
   "source": [
    "trip_no = []\n",
    "for i in range(0,len(list1)+1):\n",
    "    trip_no.append(i)\n",
    "output_trip_no = [str(x) for x in trip_no]\n",
    "print(output_trip_no)\n",
    "unit = df['unit'].unique()\n",
    "print(unit)"
   ]
  },
  {
   "cell_type": "code",
   "execution_count": 16,
   "id": "d2d8244f",
   "metadata": {},
   "outputs": [
    {
     "data": {
      "text/plain": [
       "['1000_0', '1000_1', '1000_2', '1000_3', '2000_0', '2000_1', '2000_2']"
      ]
     },
     "execution_count": 16,
     "metadata": {},
     "output_type": "execute_result"
    }
   ],
   "source": [
    "df_name = []\n",
    "i = 0 \n",
    "k = 0\n",
    "for j in range(0,len(list1)):\n",
    "        if list1[j] < df_unit['size'][i]:\n",
    "            df_name.append(unit[i].astype('str')+'_'+output_trip_no[k])\n",
    "            k=k+1\n",
    "        else :\n",
    "            df_name.append(unit[i+1].astype('str')+'_'+output_trip_no[k-j])\n",
    "            k=k+2\n",
    "df_name.append(unit[1].astype('str')+'_'+output_trip_no[k-len(list1)])\n",
    "df_name"
   ]
  },
  {
   "cell_type": "code",
   "execution_count": 17,
   "id": "9e8b919e",
   "metadata": {},
   "outputs": [
    {
     "data": {
      "text/plain": [
       "Index(['latitude', 'longitude', 'timestamp', 'unit', 'timestamp1',\n",
       "       'Time_Diff'],\n",
       "      dtype='object')"
      ]
     },
     "execution_count": 17,
     "metadata": {},
     "output_type": "execute_result"
    }
   ],
   "source": [
    "df.columns"
   ]
  },
  {
   "cell_type": "code",
   "execution_count": null,
   "id": "074b319f",
   "metadata": {},
   "outputs": [],
   "source": []
  },
  {
   "cell_type": "code",
   "execution_count": 18,
   "id": "b2e60405",
   "metadata": {},
   "outputs": [],
   "source": [
    "df.drop(columns=['unit', 'timestamp1','Time_Diff'],inplace=True)"
   ]
  },
  {
   "cell_type": "code",
   "execution_count": 19,
   "id": "8396ef65",
   "metadata": {},
   "outputs": [
    {
     "data": {
      "text/html": [
       "<div>\n",
       "<style scoped>\n",
       "    .dataframe tbody tr th:only-of-type {\n",
       "        vertical-align: middle;\n",
       "    }\n",
       "\n",
       "    .dataframe tbody tr th {\n",
       "        vertical-align: top;\n",
       "    }\n",
       "\n",
       "    .dataframe thead th {\n",
       "        text-align: right;\n",
       "    }\n",
       "</style>\n",
       "<table border=\"1\" class=\"dataframe\">\n",
       "  <thead>\n",
       "    <tr style=\"text-align: right;\">\n",
       "      <th></th>\n",
       "      <th>latitude</th>\n",
       "      <th>longitude</th>\n",
       "      <th>timestamp</th>\n",
       "    </tr>\n",
       "  </thead>\n",
       "  <tbody>\n",
       "    <tr>\n",
       "      <th>0</th>\n",
       "      <td>40.23426</td>\n",
       "      <td>-77.13796</td>\n",
       "      <td>2023-12-05T23:13:40Z</td>\n",
       "    </tr>\n",
       "    <tr>\n",
       "      <th>1</th>\n",
       "      <td>40.23422</td>\n",
       "      <td>-77.13796</td>\n",
       "      <td>2023-12-05T23:13:40Z</td>\n",
       "    </tr>\n",
       "    <tr>\n",
       "      <th>2</th>\n",
       "      <td>40.23419</td>\n",
       "      <td>-77.13795</td>\n",
       "      <td>2023-12-05T23:13:40Z</td>\n",
       "    </tr>\n",
       "    <tr>\n",
       "      <th>3</th>\n",
       "      <td>40.23412</td>\n",
       "      <td>-77.13792</td>\n",
       "      <td>2023-12-05T23:13:40Z</td>\n",
       "    </tr>\n",
       "    <tr>\n",
       "      <th>4</th>\n",
       "      <td>40.23412</td>\n",
       "      <td>-77.13792</td>\n",
       "      <td>2023-12-05T23:13:40Z</td>\n",
       "    </tr>\n",
       "  </tbody>\n",
       "</table>\n",
       "</div>"
      ],
      "text/plain": [
       "   latitude  longitude             timestamp\n",
       "0  40.23426  -77.13796  2023-12-05T23:13:40Z\n",
       "1  40.23422  -77.13796  2023-12-05T23:13:40Z\n",
       "2  40.23419  -77.13795  2023-12-05T23:13:40Z\n",
       "3  40.23412  -77.13792  2023-12-05T23:13:40Z\n",
       "4  40.23412  -77.13792  2023-12-05T23:13:40Z"
      ]
     },
     "execution_count": 19,
     "metadata": {},
     "output_type": "execute_result"
    }
   ],
   "source": [
    "df.head()"
   ]
  },
  {
   "cell_type": "code",
   "execution_count": 20,
   "id": "581403e5",
   "metadata": {},
   "outputs": [],
   "source": [
    "name1={}"
   ]
  },
  {
   "cell_type": "code",
   "execution_count": 21,
   "id": "0148f790",
   "metadata": {},
   "outputs": [],
   "source": [
    "##name = [[]]\n",
    "for i in range(0,len(df_name)):\n",
    "    if i == 0 :\n",
    "        name1[i] = df.iloc[:list1[i],:]\n",
    "    elif i < len(df_name)-1 :\n",
    "        name1[i] = df.iloc[list1[i-1]+1:list1[i]+1,:]\n",
    "    else:\n",
    "        name1[i] = df.iloc[list1[i-1]:,:]"
   ]
  },
  {
   "cell_type": "code",
   "execution_count": 22,
   "id": "66eaf346",
   "metadata": {},
   "outputs": [
    {
     "data": {
      "text/plain": [
       "{0:        latitude  longitude             timestamp\n",
       " 0      40.23426  -77.13796  2023-12-05T23:13:40Z\n",
       " 1      40.23422  -77.13796  2023-12-05T23:13:40Z\n",
       " 2      40.23419  -77.13795  2023-12-05T23:13:40Z\n",
       " 3      40.23412  -77.13792  2023-12-05T23:13:40Z\n",
       " 4      40.23412  -77.13792  2023-12-05T23:13:40Z\n",
       " ...         ...        ...                   ...\n",
       " 14638  41.58661  -87.23604  2023-12-06T15:36:15Z\n",
       " 14639  41.58661  -87.23604  2023-12-06T15:36:15Z\n",
       " 14640  41.58699  -87.23491  2023-12-06T15:36:21Z\n",
       " 14641  41.58699  -87.23491  2023-12-06T15:36:21Z\n",
       " 14642  41.58699  -87.23491  2023-12-06T15:36:21Z\n",
       " \n",
       " [14643 rows x 3 columns],\n",
       " 1:        latitude  longitude             timestamp\n",
       " 14644  40.17010  -79.73264  2023-12-08T01:16:38Z\n",
       " 14645  40.16999  -79.73276  2023-12-08T01:16:38Z\n",
       " 14646  40.16999  -79.73276  2023-12-08T01:16:38Z\n",
       " 14647  40.16999  -79.73276  2023-12-08T01:16:38Z\n",
       " 14648  40.16996  -79.73280  2023-12-08T01:16:39Z\n",
       " ...         ...        ...                   ...\n",
       " 26919  40.59526  -74.26294  2023-12-05T15:13:38Z\n",
       " 26920  40.59506  -74.26287  2023-12-05T15:13:40Z\n",
       " 26921  40.59506  -74.26287  2023-12-05T15:13:40Z\n",
       " 26922  40.59506  -74.26287  2023-12-05T15:13:40Z\n",
       " 26923  40.59506  -74.26287  2023-12-05T15:13:40Z\n",
       " \n",
       " [12280 rows x 3 columns],\n",
       " 2:        latitude  longitude             timestamp\n",
       " 26924  40.08751  -76.38773  2023-12-06T23:36:21Z\n",
       " 26925  40.08741  -76.38781  2023-12-06T23:36:21Z\n",
       " 26926  40.08710  -76.38804  2023-12-06T23:36:24Z\n",
       " 26927  40.08710  -76.38804  2023-12-06T23:36:24Z\n",
       " 26928  40.08708  -76.38798  2023-12-06T23:36:24Z\n",
       " ...         ...        ...                   ...\n",
       " 42773  41.56531  -87.35611  2023-12-07T17:16:31Z\n",
       " 42774  41.56519  -87.35607  2023-12-07T17:16:32Z\n",
       " 42775  41.56512  -87.35604  2023-12-07T17:16:33Z\n",
       " 42776  41.56464  -87.35603  2023-12-07T17:16:36Z\n",
       " 42777  41.56431  -87.35603  2023-12-07T17:16:38Z\n",
       " \n",
       " [15854 rows x 3 columns],\n",
       " 3:        latitude  longitude             timestamp\n",
       " 42778  30.42087  -81.73532  2023-12-12T11:12:39Z\n",
       " 42779  30.42087  -81.73532  2023-12-12T11:12:39Z\n",
       " 42780  30.42087  -81.73532  2023-12-12T11:12:39Z\n",
       " 42781  30.42087  -81.73532  2023-12-12T11:12:39Z\n",
       " 42782  30.42087  -81.73532  2023-12-12T11:12:39Z\n",
       " ...         ...        ...                   ...\n",
       " 46495  39.06599  -96.35240  2023-12-08T23:29:17Z\n",
       " 46496  39.06607  -96.35286  2023-12-08T23:29:19Z\n",
       " 46497  39.06607  -96.35286  2023-12-08T23:29:19Z\n",
       " 46498  39.06607  -96.35286  2023-12-08T23:29:19Z\n",
       " 46499  39.06610  -96.35303  2023-12-08T23:29:20Z\n",
       " \n",
       " [3722 rows x 3 columns],\n",
       " 4:        latitude  longitude             timestamp\n",
       " 46500  31.13662  -81.58010  2023-12-11T21:58:42Z\n",
       " 46501  31.13678  -81.58042  2023-12-11T21:58:44Z\n",
       " 46502  31.13708  -81.58125  2023-12-11T21:58:49Z\n",
       " 46503  31.13716  -81.58146  2023-12-11T21:58:50Z\n",
       " 46504  31.13716  -81.58146  2023-12-11T21:58:50Z\n",
       " ...         ...        ...                   ...\n",
       " 58797  41.51200  -74.08382  2023-12-09T13:04:09Z\n",
       " 58798  41.51200  -74.08382  2023-12-09T13:04:09Z\n",
       " 58799  41.51182  -74.08374  2023-12-09T13:04:10Z\n",
       " 58800  41.51176  -74.08371  2023-12-09T13:04:11Z\n",
       " 58801  41.51145  -74.08360  2023-12-09T13:04:13Z\n",
       " \n",
       " [12302 rows x 3 columns],\n",
       " 5:        latitude  longitude             timestamp\n",
       " 58802  43.17101  -75.31687  2023-12-09T21:04:13Z\n",
       " 58803  43.17009  -75.31566  2023-12-09T21:04:21Z\n",
       " 58804  43.17009  -75.31566  2023-12-09T21:04:21Z\n",
       " 58805  43.17009  -75.31566  2023-12-09T21:04:21Z\n",
       " 58806  43.16938  -75.31473  2023-12-09T21:04:28Z\n",
       " ...         ...        ...                   ...\n",
       " 62257  43.07942  -74.29190  2023-12-10T00:19:21Z\n",
       " 62258  43.07956  -74.29152  2023-12-10T00:19:23Z\n",
       " 62259  43.07956  -74.29152  2023-12-10T00:19:23Z\n",
       " 62260  43.07956  -74.29152  2023-12-10T00:19:23Z\n",
       " 62261  43.07957  -74.29152  2023-12-10T00:19:23Z\n",
       " \n",
       " [3460 rows x 3 columns],\n",
       " 6:        latitude  longitude             timestamp\n",
       " 62261  43.07957  -74.29152  2023-12-10T00:19:23Z\n",
       " 62262  41.51166  -74.08417  2023-12-11T10:50:09Z\n",
       " 62263  41.51176  -74.08371  2023-12-11T10:50:11Z\n",
       " 62264  41.51176  -74.08371  2023-12-11T10:50:11Z\n",
       " 62265  41.51088  -74.08337  2023-12-11T10:50:17Z\n",
       " ...         ...        ...                   ...\n",
       " 73467  42.98914  -74.40199  2023-12-11T02:50:02Z\n",
       " 73468  42.98919  -74.40328  2023-12-11T02:50:09Z\n",
       " 73469  42.98919  -74.40328  2023-12-11T02:50:09Z\n",
       " 73470  42.98919  -74.40328  2023-12-11T02:50:09Z\n",
       " 73471  42.98919  -74.40332  2023-12-11T02:50:09Z\n",
       " \n",
       " [11211 rows x 3 columns]}"
      ]
     },
     "execution_count": 22,
     "metadata": {},
     "output_type": "execute_result"
    }
   ],
   "source": [
    "name1"
   ]
  },
  {
   "cell_type": "code",
   "execution_count": 23,
   "id": "74abd0c2",
   "metadata": {},
   "outputs": [],
   "source": [
    "\n",
    "for i in range(0,len(df_name)):\n",
    "    name1[i].reset_index(drop=True,inplace=True)\n",
    "    name1[i].to_csv(df_name[i]+'.csv',index=False)"
   ]
  },
  {
   "cell_type": "code",
   "execution_count": null,
   "id": "fb0eae97",
   "metadata": {},
   "outputs": [],
   "source": []
  },
  {
   "cell_type": "code",
   "execution_count": null,
   "id": "932fdcb5",
   "metadata": {},
   "outputs": [],
   "source": []
  },
  {
   "cell_type": "code",
   "execution_count": null,
   "id": "2853e4b7",
   "metadata": {},
   "outputs": [],
   "source": []
  },
  {
   "cell_type": "code",
   "execution_count": null,
   "id": "5a3f038f",
   "metadata": {},
   "outputs": [],
   "source": []
  },
  {
   "cell_type": "code",
   "execution_count": null,
   "id": "d56cdd37",
   "metadata": {},
   "outputs": [],
   "source": []
  },
  {
   "cell_type": "code",
   "execution_count": null,
   "id": "72926e68",
   "metadata": {},
   "outputs": [],
   "source": []
  },
  {
   "cell_type": "code",
   "execution_count": null,
   "id": "176a9635",
   "metadata": {},
   "outputs": [],
   "source": []
  },
  {
   "cell_type": "code",
   "execution_count": null,
   "id": "706cfe72",
   "metadata": {},
   "outputs": [],
   "source": []
  },
  {
   "cell_type": "code",
   "execution_count": null,
   "id": "04c5ad0c",
   "metadata": {},
   "outputs": [],
   "source": []
  },
  {
   "cell_type": "code",
   "execution_count": null,
   "id": "b84690a9",
   "metadata": {},
   "outputs": [],
   "source": []
  },
  {
   "cell_type": "code",
   "execution_count": null,
   "id": "f8dd1643",
   "metadata": {},
   "outputs": [],
   "source": []
  }
 ],
 "metadata": {
  "kernelspec": {
   "display_name": "Python 3 (ipykernel)",
   "language": "python",
   "name": "python3"
  },
  "language_info": {
   "codemirror_mode": {
    "name": "ipython",
    "version": 3
   },
   "file_extension": ".py",
   "mimetype": "text/x-python",
   "name": "python",
   "nbconvert_exporter": "python",
   "pygments_lexer": "ipython3",
   "version": "3.9.12"
  }
 },
 "nbformat": 4,
 "nbformat_minor": 5
}
